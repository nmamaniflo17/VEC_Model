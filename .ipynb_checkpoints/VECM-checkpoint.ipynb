{
 "cells": [
  {
   "cell_type": "raw",
   "id": "748e2b93-cd35-489a-bbb3-fee42f168783",
   "metadata": {},
   "source": [
    "---\n",
    "title: VEC model to analyze the relationship between GDP and energy consumption in Peru, 1971 - 2014\n",
    "subtitle: Application in Python\n",
    "date: today\n",
    "author:\n",
    "  name: Nelson Brayan Mamani Flores\n",
    "theme: journal\n",
    "format:\n",
    "  html:\n",
    "    toc: true\n",
    "    code-tools: true\n",
    "jupyter: python3\n",
    "---"
   ]
  },
  {
   "cell_type": "markdown",
   "id": "184230c0-47c3-40db-888b-e25bd12d83be",
   "metadata": {},
   "source": [
    "### Abstract"
   ]
  },
  {
   "cell_type": "markdown",
   "id": "d455fc00-2362-43a0-acdb-6b0c20d4e676",
   "metadata": {},
   "source": [
    "This paper presents empirical evidence on the relationship between energy consumption and GDP in Perú during the period 1971 to 2014. The results show that the series are not stationary, i.e., are individually I(1); in addition, we find a long-term relationship between both variables. Through a VECM we estimate short- and long-term elasticities to analyze the dynamics of adjustment. The results show that in the short-term the conservation hypothesis holds (i.e., no evidence of a short-term relationship of energy consumption to GDP). In the long-term, however, we find evidence of a feedback mechanism between both variables. Yet, this paper provides evidence that policymakers can implement policies aimed at energy conservation without hurting economic growth. \n",
    "\n",
    "**Key words:** Energy Consumption, Cointegration Relation, Vector Error Correction Model (VECM), Structural Break, Perú."
   ]
  },
  {
   "cell_type": "markdown",
   "id": "9d60b763-4458-4d56-8290-bf0c159414cd",
   "metadata": {},
   "source": [
    "## 1. Introduction"
   ]
  },
  {
   "cell_type": "markdown",
   "id": "a17bde0b-955f-436f-93d2-849acb3a3a7f",
   "metadata": {},
   "source": [
    "The oil crisis of the 1970s motivated researchers to study numerous relationships between macroeconomic variables. As a result, researchers began to study the relationships between macroeconomic variables such as oil prices, inflation, economic growth, energy consumption, the exchange rate, and other factors that affect the economy in general. This led to a greater understanding of how these variables are interconnected and how they can affect the economy of a country and the world as a whole. The oil crisis led to a significant increase in energy prices, which in turn had a major impact on the global economy. Also, since energy is a key input for production and consumption, it has become a central research topic in economics.\n",
    "\n",
    "Given the importance between GDP dynamics and electricity consumption, this article will address the relationship between these variables through an error correction model. For this reason, the specific objective of this work is to provide empirical evidence of the existence or not of a strong relationship (in the short and long term) between energy consumption and GDP in Peru, as well as to analyze that, For the above reason, it is possible to implement environmental policies that promote the efficient use and conservation of energy. \n",
    "\n",
    "In this sense, this work is an empirical and applied contribution to the scarce literature on energy and its impact on production in Peru."
   ]
  },
  {
   "cell_type": "markdown",
   "id": "ce9f39a3-d297-498e-92be-75a0a1d57691",
   "metadata": {},
   "source": [
    "## 2.  The relationship between energy consumption and GDP"
   ]
  },
  {
   "cell_type": "markdown",
   "id": "3bc41e05-75f8-4ba9-b757-530651190869",
   "metadata": {},
   "source": [
    "The relationship between energy consumption and GDP is complex and multifaceted. Generally, there is a positive correlation between energy consumption and GDP, as countries with higher levels of economic development tend to consume more energy in order to power their industries, transportation systems, and households. Evidence also shows that it is possible to find a two-way causality between energy consumption and real GDP. In the study carried out by Al-Iriani (2006) for the six countries that make up the Gulf Cooperation Council (Kuwait, Oman, Saudi Arabia, Bahrain, the United Arab Emirates and Qatar), the results obtained indicate that there is unidirectional causality of GDP. . to energy consumption; Soytas, Sari and Ozdemir (2001) found evidence of a one-way causal relationship between energy consumption and GDP in Turkey from the cointegration method and error correction vector analysis.\n",
    "\n",
    "A priori we could say that the relationship between energy consumption and GDP is complex and depends on a wide range of factors including the level of economic development of a country, its energy policies and the efficiency of its energy systems."
   ]
  },
  {
   "cell_type": "markdown",
   "id": "66ff776b-5761-4b82-9fa7-6afcb1822dde",
   "metadata": {},
   "source": [
    "## 3. Econometric methodology and model"
   ]
  },
  {
   "cell_type": "markdown",
   "id": "0f3b62db-379f-46cf-a999-71a5112a9119",
   "metadata": {},
   "source": [
    "It is known that to avoid obtaining misleading relationships in econometric estimates it is necessary to apply unit root tests to the series in order to determine the stationarity or not of the series. Then, if the series are non-stationary, that is, they have a unit root, it must be proved that they are cointegrated and, thus, have a long-term relationship between them.\n",
    "\n",
    "Firstly, in this work the ADF (Augmented Dickey-Fuller) test and the KPSS (Kwiatkowski, Phillips, Smichdt and Shin) test were applied to test the order of integration of the series. Additionally, the Zivot-Andrews test was used to determine if the series are stationary or non-stationary in the presence of a possible unit root with structural break. \n",
    "\n",
    "As mentioned, if the series have a unit root (they are integrated of order one), according to Granger and Newbold (1974), the step to follow is to test cointegration between the series. In addition, the test proposed by Johansen based on the Lagrange Multiplier estimator (MLE) and the cointegration methodology proposed by Johansen and Juselius (1992) were used to prove the existence of a long-term relationship between the variables. The next step is to estimate the VAR Model (p) to determine the number of lags thereof based on the information criteria and thus determine the optimal lags of the VEC Model (p-1)."
   ]
  },
  {
   "cell_type": "markdown",
   "id": "35323d14-bd99-4192-b3ea-7f9ad8b24685",
   "metadata": {},
   "source": [
    "### 3.1.  Data and Application"
   ]
  },
  {
   "cell_type": "markdown",
   "id": "9e85bb83-94c0-4809-9046-324daa92848f",
   "metadata": {},
   "source": [
    "This is a time series study, which consists of annual time series of GDP and energy consumption, both in per capita terms. The series are obtained from the World Bank, the definition of energy consumption is: Electricity consumption measures the production of electricity generating plants and combined heat and electricity generation plants, minus transmission, distribution and transformation losses, and the own consumption of the plants. On the other hand, GDP per capita is measured at current prices."
   ]
  },
  {
   "cell_type": "code",
   "execution_count": 1,
   "id": "3b2cdc54-451d-4871-8318-04c719aa2fab",
   "metadata": {},
   "outputs": [],
   "source": [
    "# import libraries\n",
    "\n",
    "import pandas as pd \n",
    "import requests"
   ]
  },
  {
   "cell_type": "code",
   "execution_count": 40,
   "id": "a1c74afd-fbe9-474a-abb6-7192d12ab01f",
   "metadata": {},
   "outputs": [],
   "source": [
    "# Access the world bank database\n",
    "\n",
    "from pandas_datareader import wb\n",
    "KWH_PC= 'EG.USE.ELEC.KH.PC'     # Series Electrical energy consumption per capita (kWh)\n",
    "PBI_PC= 'NY.GDP.PCAP.KN'        # GDP per capita series in USD (Constant prices)"
   ]
  },
  {
   "cell_type": "code",
   "execution_count": 41,
   "id": "cb157236-aa08-45d0-8b36-6801150f87db",
   "metadata": {},
   "outputs": [
    {
     "data": {
      "text/html": [
       "<div>\n",
       "<style scoped>\n",
       "    .dataframe tbody tr th:only-of-type {\n",
       "        vertical-align: middle;\n",
       "    }\n",
       "\n",
       "    .dataframe tbody tr th {\n",
       "        vertical-align: top;\n",
       "    }\n",
       "\n",
       "    .dataframe thead th {\n",
       "        text-align: right;\n",
       "    }\n",
       "</style>\n",
       "<table border=\"1\" class=\"dataframe\">\n",
       "  <thead>\n",
       "    <tr style=\"text-align: right;\">\n",
       "      <th></th>\n",
       "      <th></th>\n",
       "      <th>EG.USE.ELEC.KH.PC</th>\n",
       "      <th>NY.GDP.PCAP.KN</th>\n",
       "    </tr>\n",
       "    <tr>\n",
       "      <th>country</th>\n",
       "      <th>year</th>\n",
       "      <th></th>\n",
       "      <th></th>\n",
       "    </tr>\n",
       "  </thead>\n",
       "  <tbody>\n",
       "    <tr>\n",
       "      <th rowspan=\"5\" valign=\"top\">Peru</th>\n",
       "      <th>1971</th>\n",
       "      <td>388.514407</td>\n",
       "      <td>8784.738435</td>\n",
       "    </tr>\n",
       "    <tr>\n",
       "      <th>1972</th>\n",
       "      <td>406.578668</td>\n",
       "      <td>8848.246104</td>\n",
       "    </tr>\n",
       "    <tr>\n",
       "      <th>1973</th>\n",
       "      <td>410.295619</td>\n",
       "      <td>9158.635033</td>\n",
       "    </tr>\n",
       "    <tr>\n",
       "      <th>1974</th>\n",
       "      <td>426.906110</td>\n",
       "      <td>9763.916538</td>\n",
       "    </tr>\n",
       "    <tr>\n",
       "      <th>1975</th>\n",
       "      <td>435.773811</td>\n",
       "      <td>9930.384340</td>\n",
       "    </tr>\n",
       "  </tbody>\n",
       "</table>\n",
       "</div>"
      ],
      "text/plain": [
       "              EG.USE.ELEC.KH.PC  NY.GDP.PCAP.KN\n",
       "country year                                   \n",
       "Peru    1971         388.514407     8784.738435\n",
       "        1972         406.578668     8848.246104\n",
       "        1973         410.295619     9158.635033\n",
       "        1974         426.906110     9763.916538\n",
       "        1975         435.773811     9930.384340"
      ]
     },
     "execution_count": 41,
     "metadata": {},
     "output_type": "execute_result"
    }
   ],
   "source": [
    "# Download the database with the selected variables\n",
    "\n",
    "df1 = wb.download(indicator=[KWH_PC, PBI_PC], country='PER', start=1971, end=2014).sort_index()\n",
    "df1.head()"
   ]
  },
  {
   "cell_type": "code",
   "execution_count": 42,
   "id": "6e096f27-da3e-4977-93c0-6299d86584db",
   "metadata": {},
   "outputs": [
    {
     "data": {
      "text/html": [
       "<div>\n",
       "<style scoped>\n",
       "    .dataframe tbody tr th:only-of-type {\n",
       "        vertical-align: middle;\n",
       "    }\n",
       "\n",
       "    .dataframe tbody tr th {\n",
       "        vertical-align: top;\n",
       "    }\n",
       "\n",
       "    .dataframe thead th {\n",
       "        text-align: right;\n",
       "    }\n",
       "</style>\n",
       "<table border=\"1\" class=\"dataframe\">\n",
       "  <thead>\n",
       "    <tr style=\"text-align: right;\">\n",
       "      <th></th>\n",
       "      <th>CE</th>\n",
       "      <th>PBI</th>\n",
       "    </tr>\n",
       "    <tr>\n",
       "      <th>year</th>\n",
       "      <th></th>\n",
       "      <th></th>\n",
       "    </tr>\n",
       "  </thead>\n",
       "  <tbody>\n",
       "    <tr>\n",
       "      <th>1971</th>\n",
       "      <td>388.514407</td>\n",
       "      <td>8784.738435</td>\n",
       "    </tr>\n",
       "    <tr>\n",
       "      <th>1972</th>\n",
       "      <td>406.578668</td>\n",
       "      <td>8848.246104</td>\n",
       "    </tr>\n",
       "    <tr>\n",
       "      <th>1973</th>\n",
       "      <td>410.295619</td>\n",
       "      <td>9158.635033</td>\n",
       "    </tr>\n",
       "    <tr>\n",
       "      <th>1974</th>\n",
       "      <td>426.906110</td>\n",
       "      <td>9763.916538</td>\n",
       "    </tr>\n",
       "    <tr>\n",
       "      <th>1975</th>\n",
       "      <td>435.773811</td>\n",
       "      <td>9930.384340</td>\n",
       "    </tr>\n",
       "  </tbody>\n",
       "</table>\n",
       "</div>"
      ],
      "text/plain": [
       "              CE          PBI\n",
       "year                         \n",
       "1971  388.514407  8784.738435\n",
       "1972  406.578668  8848.246104\n",
       "1973  410.295619  9158.635033\n",
       "1974  426.906110  9763.916538\n",
       "1975  435.773811  9930.384340"
      ]
     },
     "execution_count": 42,
     "metadata": {},
     "output_type": "execute_result"
    }
   ],
   "source": [
    "# Rename variables and remove country indexed column\n",
    "\n",
    "data = df1.reset_index(level=['country'])\n",
    "data = data.drop('country', axis=1).rename(columns={'EG.USE.ELEC.KH.PC': 'CE',\n",
    "                                                    'NY.GDP.PCAP.KN': 'PBI'})\n",
    "data.head()"
   ]
  },
  {
   "cell_type": "code",
   "execution_count": 43,
   "id": "5b8eb4f4-09b1-4b8c-a378-de865e8ae61c",
   "metadata": {},
   "outputs": [
    {
     "data": {
      "text/html": [
       "<div>\n",
       "<style scoped>\n",
       "    .dataframe tbody tr th:only-of-type {\n",
       "        vertical-align: middle;\n",
       "    }\n",
       "\n",
       "    .dataframe tbody tr th {\n",
       "        vertical-align: top;\n",
       "    }\n",
       "\n",
       "    .dataframe thead th {\n",
       "        text-align: right;\n",
       "    }\n",
       "</style>\n",
       "<table border=\"1\" class=\"dataframe\">\n",
       "  <thead>\n",
       "    <tr style=\"text-align: right;\">\n",
       "      <th></th>\n",
       "      <th>CE</th>\n",
       "      <th>PBI</th>\n",
       "      <th>LPBI</th>\n",
       "      <th>LCE</th>\n",
       "    </tr>\n",
       "    <tr>\n",
       "      <th>year</th>\n",
       "      <th></th>\n",
       "      <th></th>\n",
       "      <th></th>\n",
       "      <th></th>\n",
       "    </tr>\n",
       "  </thead>\n",
       "  <tbody>\n",
       "    <tr>\n",
       "      <th>1971</th>\n",
       "      <td>388.514407</td>\n",
       "      <td>8784.738435</td>\n",
       "      <td>9.080771</td>\n",
       "      <td>5.962330</td>\n",
       "    </tr>\n",
       "    <tr>\n",
       "      <th>1972</th>\n",
       "      <td>406.578668</td>\n",
       "      <td>8848.246104</td>\n",
       "      <td>9.087975</td>\n",
       "      <td>6.007777</td>\n",
       "    </tr>\n",
       "    <tr>\n",
       "      <th>1973</th>\n",
       "      <td>410.295619</td>\n",
       "      <td>9158.635033</td>\n",
       "      <td>9.122452</td>\n",
       "      <td>6.016878</td>\n",
       "    </tr>\n",
       "    <tr>\n",
       "      <th>1974</th>\n",
       "      <td>426.906110</td>\n",
       "      <td>9763.916538</td>\n",
       "      <td>9.186449</td>\n",
       "      <td>6.056564</td>\n",
       "    </tr>\n",
       "    <tr>\n",
       "      <th>1975</th>\n",
       "      <td>435.773811</td>\n",
       "      <td>9930.384340</td>\n",
       "      <td>9.203354</td>\n",
       "      <td>6.077123</td>\n",
       "    </tr>\n",
       "  </tbody>\n",
       "</table>\n",
       "</div>"
      ],
      "text/plain": [
       "              CE          PBI      LPBI       LCE\n",
       "year                                             \n",
       "1971  388.514407  8784.738435  9.080771  5.962330\n",
       "1972  406.578668  8848.246104  9.087975  6.007777\n",
       "1973  410.295619  9158.635033  9.122452  6.016878\n",
       "1974  426.906110  9763.916538  9.186449  6.056564\n",
       "1975  435.773811  9930.384340  9.203354  6.077123"
      ]
     },
     "execution_count": 43,
     "metadata": {},
     "output_type": "execute_result"
    }
   ],
   "source": [
    "# Generate the logarithm of the variables\n",
    "\n",
    "import numpy as np\n",
    "data['LPBI'] = np.log(data['PBI'])\n",
    "data['LCE'] = np.log(data['CE'])\n",
    "data.head()"
   ]
  },
  {
   "cell_type": "code",
   "execution_count": 6,
   "id": "41a4245b-8cf7-4599-a764-f5f252f5f029",
   "metadata": {},
   "outputs": [
    {
     "data": {
      "image/png": "[encoded data removed]",
      "text/plain": [
       "<Figure size 720x432 with 1 Axes>"
      ]
     },
     "metadata": {},
     "output_type": "display_data"
    }
   ],
   "source": [
    "# Generate the graph in time series of the logarithms of the variables\n",
    "\n",
    "import matplotlib.pyplot as plt\n",
    "plt.style.use('fivethirtyeight')\n",
    "plt.rcParams['lines.linewidth']=1.5\n",
    "\n",
    "fig, ax = plt.subplots(figsize=(10, 6))\n",
    "data[['LPBI','LCE']].plot(ax=ax)\n",
    "ax.set_title('Figure1. Energy Consumption Per Capita and Real GDP Per Capita in Peru, 1971-2014')\n",
    "ax.set_xlabel('Mes')\n",
    "ax.set_ylabel('Valor')\n",
    "plt.show()"
   ]
  },
  {
   "cell_type": "markdown",
   "id": "8f151f7a-588e-46df-b103-f221d8f9917b",
   "metadata": {},
   "source": [
    "Graph 1 shows the series in logarithms for the study period and Graph 2 shows the first difference of the series in Graph 1. We can see that in graphs 1 and 2, the series are apparently correlated in some periods, but in others , power consumption increases."
   ]
  },
  {
   "cell_type": "code",
   "execution_count": 44,
   "id": "9c330056-539b-4f93-be08-1d4ded2ce601",
   "metadata": {},
   "outputs": [
    {
     "data": {
      "text/html": [
       "<div>\n",
       "<style scoped>\n",
       "    .dataframe tbody tr th:only-of-type {\n",
       "        vertical-align: middle;\n",
       "    }\n",
       "\n",
       "    .dataframe tbody tr th {\n",
       "        vertical-align: top;\n",
       "    }\n",
       "\n",
       "    .dataframe thead th {\n",
       "        text-align: right;\n",
       "    }\n",
       "</style>\n",
       "<table border=\"1\" class=\"dataframe\">\n",
       "  <thead>\n",
       "    <tr style=\"text-align: right;\">\n",
       "      <th></th>\n",
       "      <th>CE</th>\n",
       "      <th>PBI</th>\n",
       "      <th>LPBI</th>\n",
       "      <th>LCE</th>\n",
       "      <th>DLPBI</th>\n",
       "      <th>DLCE</th>\n",
       "    </tr>\n",
       "    <tr>\n",
       "      <th>year</th>\n",
       "      <th></th>\n",
       "      <th></th>\n",
       "      <th></th>\n",
       "      <th></th>\n",
       "      <th></th>\n",
       "      <th></th>\n",
       "    </tr>\n",
       "  </thead>\n",
       "  <tbody>\n",
       "    <tr>\n",
       "      <th>1971</th>\n",
       "      <td>388.514407</td>\n",
       "      <td>8784.738435</td>\n",
       "      <td>9.080771</td>\n",
       "      <td>5.962330</td>\n",
       "      <td>NaN</td>\n",
       "      <td>NaN</td>\n",
       "    </tr>\n",
       "    <tr>\n",
       "      <th>1972</th>\n",
       "      <td>406.578668</td>\n",
       "      <td>8848.246104</td>\n",
       "      <td>9.087975</td>\n",
       "      <td>6.007777</td>\n",
       "      <td>0.720331</td>\n",
       "      <td>4.544718</td>\n",
       "    </tr>\n",
       "    <tr>\n",
       "      <th>1973</th>\n",
       "      <td>410.295619</td>\n",
       "      <td>9158.635033</td>\n",
       "      <td>9.122452</td>\n",
       "      <td>6.016878</td>\n",
       "      <td>3.447789</td>\n",
       "      <td>0.910049</td>\n",
       "    </tr>\n",
       "    <tr>\n",
       "      <th>1974</th>\n",
       "      <td>426.906110</td>\n",
       "      <td>9763.916538</td>\n",
       "      <td>9.186449</td>\n",
       "      <td>6.056564</td>\n",
       "      <td>6.399645</td>\n",
       "      <td>3.968618</td>\n",
       "    </tr>\n",
       "    <tr>\n",
       "      <th>1975</th>\n",
       "      <td>435.773811</td>\n",
       "      <td>9930.384340</td>\n",
       "      <td>9.203354</td>\n",
       "      <td>6.077123</td>\n",
       "      <td>1.690558</td>\n",
       "      <td>2.055922</td>\n",
       "    </tr>\n",
       "  </tbody>\n",
       "</table>\n",
       "</div>"
      ],
      "text/plain": [
       "              CE          PBI      LPBI       LCE     DLPBI      DLCE\n",
       "year                                                                 \n",
       "1971  388.514407  8784.738435  9.080771  5.962330       NaN       NaN\n",
       "1972  406.578668  8848.246104  9.087975  6.007777  0.720331  4.544718\n",
       "1973  410.295619  9158.635033  9.122452  6.016878  3.447789  0.910049\n",
       "1974  426.906110  9763.916538  9.186449  6.056564  6.399645  3.968618\n",
       "1975  435.773811  9930.384340  9.203354  6.077123  1.690558  2.055922"
      ]
     },
     "execution_count": 44,
     "metadata": {},
     "output_type": "execute_result"
    }
   ],
   "source": [
    "# Generate the first differences of the variables\n",
    "\n",
    "data['DLPBI'] = (data['LPBI']- data['LPBI'].shift(1))*100\n",
    "data['DLCE'] = (data['LCE']- data['LCE'].shift(1))*100\n",
    "data.head()"
   ]
  },
  {
   "cell_type": "code",
   "execution_count": 8,
   "id": "fedad923-33f0-4a6e-91a2-727dd518f761",
   "metadata": {},
   "outputs": [
    {
     "data": {
      "image/png": "[encoded data removed]",
      "text/plain": [
       "<Figure size 720x432 with 1 Axes>"
      ]
     },
     "metadata": {},
     "output_type": "display_data"
    }
   ],
   "source": [
    "# Draw the first differences of the series\n",
    "\n",
    "fig, ax = plt.subplots(figsize=(10, 6))\n",
    "data[['DLPBI','DLCE']].plot(ax=ax)\n",
    "ax.set_title('Figure2. First difference of energy consumption per capita and real GDP per capita in Perú, 1971-2014')\n",
    "ax.set_xlabel('Año')\n",
    "ax.set_ylabel('Valor')\n",
    "plt.show()"
   ]
  },
  {
   "cell_type": "markdown",
   "id": "067d5551-2ec9-45df-b2ac-4fee7553a991",
   "metadata": {},
   "source": [
    "For example, in at least 10 periods, the series appear to go in opposite directions. This result of the preliminary analysis provides a first approximation that gives strength to the hypothesis of this study, which suggests that there is neither a short nor a long-term relationship between energy consumption and GDP, in both directions, that is, from energy consumption to GDP and vice versa. However, in recent years it can be seen that more movements in GDP translate into movements in energy consumption."
   ]
  },
  {
   "cell_type": "markdown",
   "id": "838f92fa-c137-40ed-a8e4-2e1c5aa58b74",
   "metadata": {},
   "source": [
    "In fact, if Graph 3 is observed, which presents a scatter graph with a linear trend, a first approximation can be seen, which indicates that the relationship between energy consumption and GDP is positive for the period of study in Peru."
   ]
  },
  {
   "cell_type": "code",
   "execution_count": 9,
   "id": "75e1a1f1-e8da-4753-abd2-77316ea4b623",
   "metadata": {},
   "outputs": [
    {
     "data": {
      "image/png": "[encoded data removed]",
      "text/plain": [
       "<Figure size 720x432 with 1 Axes>"
      ]
     },
     "metadata": {},
     "output_type": "display_data"
    }
   ],
   "source": [
    "# Plot the dispersion between variables\n",
    "\n",
    "fig, ax = plt.subplots(figsize=(10, 6))\n",
    "plt.scatter(data['LCE'], data['LPBI'])\n",
    "fit = np.polyfit(data['LCE'], data['LPBI'], 1)\n",
    "fit_fn = np.poly1d(fit)\n",
    "plt.plot(data['LCE'], fit_fn(data['LCE']),'--r')\n",
    "ax.set_title('Figure3. Dispersion between energy consumption per capita and real GDP per capita in Perú, 1971-2014')\n",
    "ax.set_xlabel('LCE')\n",
    "ax.set_ylabel('LPBI')\n",
    "plt.show()"
   ]
  },
  {
   "cell_type": "markdown",
   "id": "74e11cdc-1e1e-4e6e-9e6c-14da892d4a44",
   "metadata": {},
   "source": [
    "### 3.2. Unit Root Tests"
   ]
  },
  {
   "cell_type": "markdown",
   "id": "348fbc56-9d00-42e9-806b-288eea7d8c6a",
   "metadata": {},
   "source": [
    "The Augmented Dickey-Fuller (ADF) test and the Kwiatkowski-Phillips-Schmidt-Shin (KPSS) test are both statistical tests commonly used in time series analysis to test for stationarity. Additionally, the Zivot-Andrews test was used to test for a structural break or regime shift in the data. A structural break occurs when there is a significant change in the underlying data generation process of a time series. The null hypothesis of the Zivot-Andrews test is that the time series is stationary and does not have a structural break. The alternative hypothesis is that the time series has a structural break at an unknown point in time. The results are shown below, taking into account deterministic components."
   ]
  },
  {
   "cell_type": "code",
   "execution_count": 10,
   "id": "df288cc5-e43d-4e14-bc1e-19e6e334625f",
   "metadata": {},
   "outputs": [],
   "source": [
    "# import libraries\n",
    "\n",
    "import statsmodels.api as sm\n",
    "from statsmodels.tsa.stattools import adfuller"
   ]
  },
  {
   "cell_type": "code",
   "execution_count": 11,
   "id": "eb39cce8-ca39-4820-aa4c-9e3f75fd2a94",
   "metadata": {},
   "outputs": [
    {
     "name": "stdout",
     "output_type": "stream",
     "text": [
      "ADF statistic: 1.804410\n",
      "p-value: 0.998358\n",
      "Critical values:\n",
      "\t1%: -3.597\n",
      "\t5%: -2.933\n",
      "\t10%: -2.605\n",
      "Do not reject Ho - The time series is not stationary\n"
     ]
    }
   ],
   "source": [
    "# Dickey & Fuller test with constant for the LCE series\n",
    "\n",
    "X = data[\"LCE\"].values\n",
    "result_adf1 = adfuller(X, regression='c')\n",
    "print('ADF statistic: %f' % result_adf1[0])\n",
    "print('p-value: %f' % result_adf1[1])\n",
    "print('Critical values:')\n",
    "for key, value in result_adf1[4].items():\n",
    "    print('\\t%s: %.3f' % (key, value))\n",
    "\n",
    "if result_adf1[0] < result_adf1[4][\"5%\"]:\n",
    "    print (\"Reject the Ho - The time series is stationary\")\n",
    "else:\n",
    "    print (\"Do not reject Ho - The time series is not stationary\")"
   ]
  },
  {
   "cell_type": "markdown",
   "id": "4ec76a34-87a3-468b-bf8e-17d6372d7677",
   "metadata": {},
   "source": [
    "##### Results analysis:"
   ]
  },
  {
   "cell_type": "markdown",
   "id": "aab0449b-6f8c-4adb-9cfc-164386135e6f",
   "metadata": {},
   "source": [
    "The results indicate that we cannot reject the null hypothesis (Ho) that the time series is not stationary. This is because the ADF (Augmented Dickey-Fuller) value is greater than the critical values at the 1%, 5%, and 10% significance levels, and the p-value is greater than the 5% significance level. . Therefore, we do not have enough evidence to affirm that the time series is stationary. It is important to highlight that the non-stationarity of the time series can have important implications in its modeling and in making decisions based on it."
   ]
  },
  {
   "cell_type": "code",
   "execution_count": 12,
   "id": "36e626af-2a95-494d-8070-27e89145b18b",
   "metadata": {},
   "outputs": [
    {
     "name": "stdout",
     "output_type": "stream",
     "text": [
      "ADF statistic: -0.093686\n",
      "p-value: 0.993150\n",
      "Critical values:\n",
      "\t1%: -4.192\n",
      "\t5%: -3.521\n",
      "\t10%: -3.191\n",
      "Do not reject Ho - The time series is not stationary\n"
     ]
    }
   ],
   "source": [
    "# Dickey & Fuller test with constant and trend for the LCE series\n",
    "\n",
    "X = data[\"LCE\"].values\n",
    "result_adf2 = adfuller(X, regression='ct')\n",
    "print('ADF statistic: %f' % result_adf2[0])\n",
    "print('p-value: %f' % result_adf2[1])\n",
    "print('Critical values:')\n",
    "for key, value in result_adf2[4].items():\n",
    "    print('\\t%s: %.3f' % (key, value))\n",
    "\n",
    "if result_adf2[0] < result_adf2[4][\"5%\"]:\n",
    "    print (\"Reject the Ho - The time series is stationary\")\n",
    "else:\n",
    "    print (\"Do not reject Ho - The time series is not stationary\")"
   ]
  },
  {
   "cell_type": "markdown",
   "id": "58b7d955-c268-4cae-9547-46326d4a387f",
   "metadata": {},
   "source": [
    "##### Results analysis:"
   ]
  },
  {
   "cell_type": "markdown",
   "id": "cd03b45b-5e8d-4849-bf59-145c0e777df4",
   "metadata": {},
   "source": [
    "The results indicate that we cannot reject the null hypothesis (Ho) that the LCE time series is not stationary. This is because the ADF (Augmented Dickey-Fuller) value is greater than the critical values at the 1%, 5%, and 10% significance levels, and the p-value is greater than the 5% significance level. . Therefore, we do not have enough evidence to affirm that the LCE time series is stationary. It is important to highlight that the non-stationarity of the time series can have important implications in its modeling and in making decisions based on it. In addition, when using the test with constant and trend, the possible presence of a trend in the time series is taken into account, which may affect its stationarity."
   ]
  },
  {
   "cell_type": "code",
   "execution_count": 13,
   "id": "0f756168-c90b-4261-a207-296070326715",
   "metadata": {},
   "outputs": [
    {
     "name": "stdout",
     "output_type": "stream",
     "text": [
      "ADF statistic: -0.502716\n",
      "p-value: 0.891485\n",
      "Critical values:\n",
      "\t1%: -3.597\n",
      "\t5%: -2.933\n",
      "\t10%: -2.605\n",
      "Do not reject Ho - The time series is not stationary\n"
     ]
    }
   ],
   "source": [
    "# Dickey & Fuller test with constant for the lPBI series\n",
    "\n",
    "Y = data[\"LPBI\"].values\n",
    "result_adf3 = adfuller(Y, regression='c')\n",
    "print('ADF statistic: %f' % result_adf3[0])\n",
    "print('p-value: %f' % result_adf3[1])\n",
    "print('Critical values:')\n",
    "for key, value in result_adf3[4].items():\n",
    "    print('\\t%s: %.3f' % (key, value))\n",
    "\n",
    "if result_adf3[0] < result_adf3[4][\"5%\"]:\n",
    "    print (\"Reject the Ho - The time series is stationary\")\n",
    "else:\n",
    "    print (\"Do not reject Ho - The time series is not stationary\")"
   ]
  },
  {
   "cell_type": "markdown",
   "id": "98e30240-460f-4c77-9556-0853931b1c63",
   "metadata": {},
   "source": [
    "##### Results analysis:"
   ]
  },
  {
   "cell_type": "markdown",
   "id": "e0b0cc0d-70e9-4f7e-b0f0-ebd14de21ebe",
   "metadata": {},
   "source": [
    "The results indicate that we cannot reject the null hypothesis (Ho) that the lGDP time series is not stationary. This is because the ADF (Augmented Dickey-Fuller) value is greater than the critical values at the 1%, 5%, and 10% significance levels, and the p-value is greater than the 5% significance level. . Therefore, we do not have sufficient evidence to affirm that the lGDP time series is stationary. It is important to highlight that the non-stationarity of the time series can have important implications in its modeling and in making decisions based on it. Using the constant test assumes that the time series has no deterministic trend, but may have a constant."
   ]
  },
  {
   "cell_type": "code",
   "execution_count": 14,
   "id": "fd9aa5d7-1060-4f10-a709-0d1b16adaf74",
   "metadata": {},
   "outputs": [
    {
     "name": "stdout",
     "output_type": "stream",
     "text": [
      "ADF statistic: -0.994704\n",
      "p-value: 0.944823\n",
      "Critical values:\n",
      "\t1%: -4.192\n",
      "\t5%: -3.521\n",
      "\t10%: -3.191\n",
      "Do not reject Ho - The time series is not stationary\n"
     ]
    }
   ],
   "source": [
    "# Dickey & Fuller test with constant and trend for the lPBI series\n",
    "\n",
    "Y = data[\"LPBI\"].values\n",
    "result_adf4 = adfuller(Y, regression='ct')\n",
    "print('ADF statistic: %f' % result_adf4[0])\n",
    "print('p-value: %f' % result_adf4[1])\n",
    "print('Critical values:')\n",
    "for key, value in result_adf4[4].items():\n",
    "    print('\\t%s: %.3f' % (key, value))\n",
    "\n",
    "if result_adf4[0] < result_adf4[4][\"5%\"]:\n",
    "    print (\"Reject the Ho - The time series is stationary\")\n",
    "else:\n",
    "    print (\"Do not reject Ho - The time series is not stationary\")"
   ]
  },
  {
   "cell_type": "markdown",
   "id": "aec12603-e3ef-4ac2-b97c-4ef579cd97bb",
   "metadata": {},
   "source": [
    "##### Results analysis:"
   ]
  },
  {
   "cell_type": "markdown",
   "id": "1a751da6-22b1-4b10-a205-f73396bc66e0",
   "metadata": {},
   "source": [
    "The results indicate that we cannot reject the null hypothesis (Ho) that the IPBI time series is not stationary. This is because the ADF (Augmented Dickey-Fuller) value is greater than the critical values at the 1%, 5%, and 10% significance levels, and the p-value is greater than the 5% significance level. . Therefore, we do not have enough evidence to affirm that the GDPl time series is stationary. When using the test with constant and trend, the possible presence of a trend and a constant in the time series is taken into account, which may affect its stationarity. It is important to highlight that the non-stationarity of the time series can have important implications in its modeling and in decision-making based on it."
   ]
  },
  {
   "cell_type": "code",
   "execution_count": 15,
   "id": "fe452b46-a711-4dae-8ec8-238cde8e2713",
   "metadata": {},
   "outputs": [],
   "source": [
    "# import libraries\n",
    "\n",
    "from statsmodels.tsa.stattools import kpss"
   ]
  },
  {
   "cell_type": "code",
   "execution_count": 16,
   "id": "e74a1084-11b0-48ed-ab23-36a9d0110be2",
   "metadata": {},
   "outputs": [],
   "source": [
    "import warnings\n",
    "warnings.filterwarnings(\"ignore\")"
   ]
  },
  {
   "cell_type": "code",
   "execution_count": 17,
   "id": "36ddc685-bac8-46c8-8f4f-d5787c74b61f",
   "metadata": {},
   "outputs": [
    {
     "name": "stdout",
     "output_type": "stream",
     "text": [
      "KPSS Statistic: 0.876762\n",
      "p-value: 0.010000\n",
      "Critical values:\n",
      "\t10%: 0.3470\n",
      "\t5%: 0.4630\n",
      "\t2.5%: 0.5740\n",
      "\t1%: 0.7390\n",
      "Do not reject Ho - The time series is stationary\n"
     ]
    }
   ],
   "source": [
    "# Kwiatkowski–Phillips–Schmidt–Shin test with constant for the lCE series\n",
    "\n",
    "result_kpss1 = kpss(X, regression='c')\n",
    "print('KPSS Statistic: %f' % result_kpss1[0])\n",
    "print('p-value: %f' % result_kpss1[1])\n",
    "print('Critical values:')\n",
    "for key, value in result_kpss1[3].items():\n",
    "    print('\\t%s: %.4f' % (key, value))\n",
    "\n",
    "if result_kpss1[0] < result_kpss1[3][\"5%\"]:\n",
    "    print (\"Reject the Ho - The time series is not stationary\")\n",
    "else:\n",
    "    print (\"Do not reject Ho - The time series is stationary\")"
   ]
  },
  {
   "cell_type": "markdown",
   "id": "94969b03-4b9f-45d6-8af0-de7a3bfe9c84",
   "metadata": {},
   "source": [
    "##### Results analysis:"
   ]
  },
  {
   "cell_type": "markdown",
   "id": "0ed0cd86-391f-4e6c-bec3-eec3bc086f0b",
   "metadata": {},
   "source": [
    "LCE series indicate that we cannot reject the null hypothesis (Ho) that the time series is not stationary. This is because the value of the KPSS statistic is greater than the critical values at all significance levels, and the p-value is less than the 1% significance level."
   ]
  },
  {
   "cell_type": "code",
   "execution_count": 18,
   "id": "a81c652b-9231-4692-aaf3-4eed5eb1957f",
   "metadata": {},
   "outputs": [
    {
     "name": "stdout",
     "output_type": "stream",
     "text": [
      "KPSS Statistic: 0.206136\n",
      "p-value: 0.013699\n",
      "Critical values:\n",
      "\t10%: 0.1190\n",
      "\t5%: 0.1460\n",
      "\t2.5%: 0.1760\n",
      "\t1%: 0.2160\n",
      "Do not reject the Ho - The time series is stationary\n"
     ]
    }
   ],
   "source": [
    "# Kwiatkowski–Phillips–Schmidt–Shin test with constant and trend for the lCE series\n",
    "\n",
    "result_kpss2 = kpss(X, regression='ct')\n",
    "print('KPSS Statistic: %f' % result_kpss2[0])\n",
    "print('p-value: %f' % result_kpss2[1])\n",
    "print('Critical values:')\n",
    "for key, value in result_kpss2[3].items():\n",
    "    print('\\t%s: %.4f' % (key, value))\n",
    "\n",
    "if result_kpss2[0] < result_kpss2[3][\"5%\"]:\n",
    "    print (\"Reject the Ho - The time series is not stationary\")\n",
    "else:\n",
    "    print (\"Do not reject the Ho - The time series is stationary\")"
   ]
  },
  {
   "cell_type": "markdown",
   "id": "5eb68a40-9665-45dc-8932-66c53ea11b1d",
   "metadata": {},
   "source": [
    "##### Results analysis:"
   ]
  },
  {
   "cell_type": "markdown",
   "id": "83bfb551-9fae-4a6d-9aee-1af7375c2313",
   "metadata": {},
   "source": [
    "The results of the Kwiatkowski-Phillips-Schmidt-Shin (KPSS) test with constant and trend for the ICE series indicate that we cannot reject the null hypothesis (Ho) that the time series is not stationary. This is because the value of the KPSS statistic is less than the critical values at all significance levels, and the p-value is less than the 1% significance level.\n",
    "\n",
    "When using the test with constant and trend, the possible presence of a trend and a constant in the time series is taken into account, which may affect its stationarity.\n",
    "\n",
    "Therefore, the results suggest that the lCE series has a deterministic trend, which means that its mean is not constant over time. This can have important implications for time series modeling and decision making, as a trend can affect the prediction and interpretation of the results. It is important to take these results into account when performing analysis and modeling of the lCE time series."
   ]
  },
  {
   "cell_type": "code",
   "execution_count": 19,
   "id": "7ea6fc3c-6256-4f15-b724-387e1cd09d2a",
   "metadata": {},
   "outputs": [
    {
     "name": "stdout",
     "output_type": "stream",
     "text": [
      "KPSS Statistic: 0.384265\n",
      "p-value: 0.083937\n",
      "Critical values:\n",
      "\t10%: 0.3470\n",
      "\t5%: 0.4630\n",
      "\t2.5%: 0.5740\n",
      "\t1%: 0.7390\n",
      "Reject the Ho - The time series is not stationary\n"
     ]
    }
   ],
   "source": [
    "# Kwiatkowski–Phillips–Schmidt–Shin test with constant for the lCE series\n",
    "\n",
    "result_kpss3 = kpss(Y, regression='c')\n",
    "print('KPSS Statistic: %f' % result_kpss3[0])\n",
    "print('p-value: %f' % result_kpss3[1])\n",
    "print('Critical values:')\n",
    "for key, value in result_kpss3[3].items():\n",
    "    print('\\t%s: %.4f' % (key, value))\n",
    "\n",
    "if result_kpss3[0] < result_kpss3[3][\"5%\"]:\n",
    "    print (\"Reject the Ho - The time series is not stationary\")\n",
    "else:\n",
    "    print (\"Do not reject the Ho - The time series is stationary\")"
   ]
  },
  {
   "cell_type": "markdown",
   "id": "5334ff11-3305-4a73-8726-ed1d47c89d12",
   "metadata": {},
   "source": [
    "##### Results analysis:"
   ]
  },
  {
   "cell_type": "markdown",
   "id": "4959f0b2-bf17-4c3d-8d16-eb22d8b2f05b",
   "metadata": {},
   "source": [
    "The results of the Kwiatkowski-Phillips-Schmidt-Shin (KPSS) test with constant for the LCE series indicate that we can reject the null hypothesis (Ho) that the time series is not stationary. This is because the value of the KPSS statistic is greater than the critical values at all significance levels, and the p-value is greater than the 5% significance level.\n",
    "\n",
    "This suggests that the LCE series is stationary in the sense that its mean and variance are constant over time, and that it does not have a deterministic trend. This is important in time series modeling and analysis, as a stationary series may be easier to model and predict."
   ]
  },
  {
   "cell_type": "code",
   "execution_count": 20,
   "id": "3d5e3c5e-909d-47d0-aab7-ae8b59b35b6b",
   "metadata": {},
   "outputs": [
    {
     "name": "stdout",
     "output_type": "stream",
     "text": [
      "KPSS Statistic: 0.227229\n",
      "p-value: 0.010000\n",
      "Critical values:\n",
      "\t10%: 0.1190\n",
      "\t5%: 0.1460\n",
      "\t2.5%: 0.1760\n",
      "\t1%: 0.2160\n",
      "Do not reject the Ho - The time series is stationary\n"
     ]
    }
   ],
   "source": [
    "# Kwiatkowski–Phillips–Schmidt–Shin test with constant and trend for the lCE series\n",
    "\n",
    "result_kpss4 = kpss(Y, regression='ct')\n",
    "print('KPSS Statistic: %f' % result_kpss4[0])\n",
    "print('p-value: %f' % result_kpss4[1])\n",
    "print('Critical values:')\n",
    "for key, value in result_kpss4[3].items():\n",
    "    print('\\t%s: %.4f' % (key, value))\n",
    "\n",
    "if result_kpss4[0] < result_kpss4[3][\"5%\"]:\n",
    "    print (\"Reject the Ho - The time series is not stationary\")\n",
    "else:\n",
    "    print (\"Do not reject the Ho - The time series is stationary\")"
   ]
  },
  {
   "cell_type": "markdown",
   "id": "0214f085-7766-4f16-9c89-2246b615bd3d",
   "metadata": {},
   "source": [
    "##### Results analysis:"
   ]
  },
  {
   "cell_type": "markdown",
   "id": "b77d12a2-5467-4584-8b96-bf415dbfa578",
   "metadata": {},
   "source": [
    "The results of the Kwiatkowski-Phillips-Schmidt-Shin (KPSS) test with constant and trend for the ICE series indicate that we cannot reject the null hypothesis (Ho) that the time series is not stationary. This is because the value of the KPSS statistic is less than the critical values at all significance levels, and the p-value is less than the 5% significance level.\n",
    "This suggests that the ICE series is not stationary in the sense that it has a deterministic trend. It is possible that the series is stationary in the sense that its mean and variance are constant over time, but this cannot be determined with the KPSS test with constant and trend."
   ]
  },
  {
   "cell_type": "markdown",
   "id": "009b35d2-031d-4d2f-9a63-1f33b1cd97ad",
   "metadata": {},
   "source": [
    "The results of the unit root tests for both series, there it can be seen that the estimated statistics are less than the critical values at 5% significance. Therefore, it is concluded that the series are integrated of order one in levels and of order zero (stationary) in differences. Additionally, deterministic components such as intercept and trend are included in the tests."
   ]
  },
  {
   "cell_type": "code",
   "execution_count": 21,
   "id": "7ae2f485-c2dc-48ac-a766-3d4fa0ed5e2b",
   "metadata": {},
   "outputs": [
    {
     "data": {
      "image/png": "[encoded data removed]",
      "text/plain": [
       "<Figure size 1080x360 with 2 Axes>"
      ]
     },
     "metadata": {},
     "output_type": "display_data"
    }
   ],
   "source": [
    "# Graph both series separately\n",
    "\n",
    "fig, ax = plt.subplots(figsize=(15,5), nrows=1, ncols=2)\n",
    "ax[0].plot(data['LPBI'])\n",
    "ax[1].plot(data['LCE'])\n",
    "ax[0].set_title(\"LBI series chart\")\n",
    "ax[1].set_title(\"LCE series chart\")\n",
    "plt.setp(ax[0].xaxis.get_majorticklabels(), rotation=90)\n",
    "plt.setp(ax[1].xaxis.get_majorticklabels(), rotation=90)\n",
    "plt.show()"
   ]
  },
  {
   "cell_type": "markdown",
   "id": "0a00916f-2418-4d0d-9a44-7905a6ee8d68",
   "metadata": {},
   "source": [
    "In this case, to carry out the Zivot Andrews test, the trend of our series was taken into account; since it captures individually and precisely the structural break of the series. However, using other tests, multiple structural breaks could be obtained, which would make the cointegration task more complex. That is why we only take the trend in our series to identify the breaks produced in the historical evolution of the series."
   ]
  },
  {
   "cell_type": "code",
   "execution_count": 22,
   "id": "df39e91c-152d-4594-b161-b7daa3b60277",
   "metadata": {},
   "outputs": [],
   "source": [
    "# import libraries\n",
    "\n",
    "from statsmodels.tsa.stattools import zivot_andrews"
   ]
  },
  {
   "cell_type": "code",
   "execution_count": 23,
   "id": "3a32f5a1-1efe-4e45-a7b1-bf776285f145",
   "metadata": {},
   "outputs": [
    {
     "name": "stdout",
     "output_type": "stream",
     "text": [
      "Statistician Zivot Andrews: -4.282785\n",
      "P-value: 0.070014\n",
      "Critical values:\n",
      "\t1%: -5.034\n",
      "\t5%: -4.406\n",
      "\t10%: -4.137\n",
      "Baselag: 1.000000\n",
      "Year corresponding to the Breakpoint index: 1997\n",
      "Do not reject Ho - The series has a unit root with only one structural break\n"
     ]
    }
   ],
   "source": [
    "# Zivot andrews test with trend for the lPBI series\n",
    "\n",
    "result_za1 = zivot_andrews(data['LPBI'], trim = 0.15, maxlag=5, regression='t')\n",
    "print('Statistician Zivot Andrews: %f' % result_za1[0])\n",
    "print('P-value: %f' % result_za1[1])\n",
    "print('Critical values:') \n",
    "for key, value in result_za1[2].items():\n",
    "    print('\\t%s: %.3f' % (key, value))\n",
    "print('Baselag: %f' % result_za1[3])\n",
    "year = data.iloc[result_za1[4]].name\n",
    "print(f\"Year corresponding to the Breakpoint index: {year}\")\n",
    "\n",
    "if result_za1[0] < result_za1[2][\"5%\"]:\n",
    "    print (\"Reject the Ho - The series is stationary in trend\")\n",
    "else:\n",
    "    print (\"Do not reject Ho - The series has a unit root with only one structural break\")"
   ]
  },
  {
   "cell_type": "markdown",
   "id": "339c6a58-924f-435d-8d5e-fbde43fe6f9b",
   "metadata": {},
   "source": [
    "##### Results analysis"
   ]
  },
  {
   "cell_type": "markdown",
   "id": "8f445509-7e61-4844-bb13-2cfa097730d4",
   "metadata": {},
   "source": [
    "The null hypothesis of this test is that there is a unit root in the time series with a structural break at some point. In this case, the test returned a statistical value of -4.282785 and a p-value of 0.070014.\n",
    "\n",
    "Critical values are used to compare with the statistical value and determine whether or not to reject the null hypothesis. In this case, the statistical value is less than the corresponding critical value at the 5% level of significance but not at 1%, indicating that there is insufficient evidence to reject the null hypothesis at the 5% level of significance. However, if a 1% significance level is considered, the statistical value is greater than the corresponding critical value, indicating that there is sufficient evidence to reject the null hypothesis at the 1% significance level.\n",
    "\n",
    "Therefore, it is concluded that the time series has a unit root with a single structural break in the year 1997 (index 26). It is important to note that the series does not have a stationary trend and that future values of the series may depend on past values. This should be considered when performing analyzes and projections based on the time series in question."
   ]
  },
  {
   "cell_type": "code",
   "execution_count": 24,
   "id": "ff72fc45-463c-4eba-8dd0-b30b0e944483",
   "metadata": {},
   "outputs": [
    {
     "name": "stdout",
     "output_type": "stream",
     "text": [
      "Zivot-Andrews statistic: -3.112052\n",
      "P-value: 0.587514\n",
      "Critical values:\n",
      "\t1%: -5.034\n",
      "\t5%: -4.406\n",
      "\t10%: -4.137\n",
      "Baselag: 1.000000\n",
      "Year corresponding to the Breakpoint index: 1996\n",
      "Do not reject Ho - The series has a unit root with only one structural break\n"
     ]
    }
   ],
   "source": [
    "# Zivot andrews test with trend for the LCE series\n",
    "\n",
    "result_za2 = zivot_andrews(data['LCE'], trim = 0.15 , maxlag=5, regression='t')\n",
    "print('Zivot-Andrews statistic: %f' % result_za2[0])\n",
    "print('P-value: %f' % result_za2[1])\n",
    "print('Critical values:') \n",
    "for key, value in result_za2[2].items():\n",
    "    print('\\t%s: %.3f' % (key, value))\n",
    "print('Baselag: %f' % result_za2[3])\n",
    "year = data.iloc[result_za2[4]].name\n",
    "print(f\"Year corresponding to the Breakpoint index: {year}\")\n",
    "\n",
    "if result_za2[0] < result_za2[2][\"5%\"]:\n",
    "    print (\"Reject the Ho - The series is stationary in trend\")\n",
    "else:\n",
    "    print (\"Do not reject Ho - The series has a unit root with only one structural break\")\n"
   ]
  },
  {
   "cell_type": "markdown",
   "id": "77efdc71-fa11-4eb2-8b12-9eb61a56c879",
   "metadata": {},
   "source": [
    "##### Results analysis:"
   ]
  },
  {
   "cell_type": "markdown",
   "id": "fa3edaa8-6dc6-464b-8f52-8361ee2ebeee",
   "metadata": {},
   "source": [
    "The null hypothesis of this test is that there is a unit root in the time series with a structural break at some point. In this case, the test returned a statistical value of -3.112052 and a p-value of 0.587514.\n",
    "\n",
    "Critical values are used to compare with the statistical value and determine whether or not to reject the null hypothesis. In this case, the statistical value is not less than the critical values corresponding to the significance level of 1%, 5%, and 10%, indicating that there is insufficient evidence to reject the null hypothesis. Therefore, the time series is considered to have a unit root with a single structural break in the year 1996 (index 25).\n",
    "\n",
    "In summary, it cannot be affirmed that the series has a stationary trend, which implies that the future values of the series can depend on the past values. It is important to keep this in mind when performing analyzes and projections based on the time series in question."
   ]
  },
  {
   "cell_type": "code",
   "execution_count": 25,
   "id": "806553be-e6db-4971-88fb-2f89bee8a02b",
   "metadata": {},
   "outputs": [
    {
     "data": {
      "image/png": "[encoded data removed]",
      "text/plain": [
       "<Figure size 1080x360 with 2 Axes>"
      ]
     },
     "metadata": {},
     "output_type": "display_data"
    }
   ],
   "source": [
    "# Plot both series with the structural break\n",
    "\n",
    "fig, ax = plt.subplots(figsize=(15,5), nrows=1, ncols=2)\n",
    "ax[0].plot(data['LPBI'])\n",
    "ax[1].plot(data['LCE'])\n",
    "ax[0].set_title(\"LBI series chart with structural break\")\n",
    "ax[1].set_title(\"LCE series chart with structural break \")\n",
    "ax[0].axvline(x='1997', color='g', linestyle='--')\n",
    "ax[1].axvline(x='1996', color='r', linestyle='--')\n",
    "plt.setp(ax[0].xaxis.get_majorticklabels(), rotation=90)\n",
    "plt.setp(ax[1].xaxis.get_majorticklabels(), rotation=90)\n",
    "plt.show()"
   ]
  },
  {
   "cell_type": "markdown",
   "id": "34525dc5-b3e4-4ed4-be52-0ed42279153d",
   "metadata": {},
   "source": [
    "These results indicate that the null hypothesis of unit root for the series in levels cannot be rejected at any conventional level. The test calculates the breaks that occurred in both series and both are consistent with historical events, such as the privatization process of the electricity sector, which began in 1994 with the sale of distribution companies in Lima, continuing with the sale of generating companies in 1995 and 1996. Likewise, with respect to GDP, the results coincide with the effects of the El Niño phenomenon of 1997-98, which reached great intensity in Peru. In this regard, Contreras et. al (2016), indicate that the El Niño phenomenon constitutes a risk due to a supply shock for the Peruvian economy. When El Niño reaches extraordinary magnitudes, it destroys part of the economy's capital stock and affects the flow of production of goods and services, all of which generates impacts on potential GDP, amplifying business cycles."
   ]
  },
  {
   "cell_type": "markdown",
   "id": "f6041000-fec1-4e1d-927a-2b19432376c3",
   "metadata": {},
   "source": [
    "In this sense, to capture the presence of these two structural breaks in our model, we will generate dummy variables for each year in question."
   ]
  },
  {
   "cell_type": "code",
   "execution_count": 45,
   "id": "fe021eaa-e44d-410c-8704-e2e20e7e33f1",
   "metadata": {},
   "outputs": [
    {
     "data": {
      "text/html": [
       "<div>\n",
       "<style scoped>\n",
       "    .dataframe tbody tr th:only-of-type {\n",
       "        vertical-align: middle;\n",
       "    }\n",
       "\n",
       "    .dataframe tbody tr th {\n",
       "        vertical-align: top;\n",
       "    }\n",
       "\n",
       "    .dataframe thead th {\n",
       "        text-align: right;\n",
       "    }\n",
       "</style>\n",
       "<table border=\"1\" class=\"dataframe\">\n",
       "  <thead>\n",
       "    <tr style=\"text-align: right;\">\n",
       "      <th></th>\n",
       "      <th>CE</th>\n",
       "      <th>PBI</th>\n",
       "      <th>LPBI</th>\n",
       "      <th>LCE</th>\n",
       "      <th>DLPBI</th>\n",
       "      <th>DLCE</th>\n",
       "      <th>fecha</th>\n",
       "      <th>dummy_LPBI</th>\n",
       "      <th>dummy_LCE</th>\n",
       "    </tr>\n",
       "    <tr>\n",
       "      <th>year</th>\n",
       "      <th></th>\n",
       "      <th></th>\n",
       "      <th></th>\n",
       "      <th></th>\n",
       "      <th></th>\n",
       "      <th></th>\n",
       "      <th></th>\n",
       "      <th></th>\n",
       "      <th></th>\n",
       "    </tr>\n",
       "  </thead>\n",
       "  <tbody>\n",
       "    <tr>\n",
       "      <th>1971</th>\n",
       "      <td>388.514407</td>\n",
       "      <td>8784.738435</td>\n",
       "      <td>9.080771</td>\n",
       "      <td>5.962330</td>\n",
       "      <td>NaN</td>\n",
       "      <td>NaN</td>\n",
       "      <td>1971-01-01</td>\n",
       "      <td>1</td>\n",
       "      <td>1</td>\n",
       "    </tr>\n",
       "    <tr>\n",
       "      <th>1972</th>\n",
       "      <td>406.578668</td>\n",
       "      <td>8848.246104</td>\n",
       "      <td>9.087975</td>\n",
       "      <td>6.007777</td>\n",
       "      <td>0.720331</td>\n",
       "      <td>4.544718</td>\n",
       "      <td>1972-01-01</td>\n",
       "      <td>1</td>\n",
       "      <td>1</td>\n",
       "    </tr>\n",
       "    <tr>\n",
       "      <th>1973</th>\n",
       "      <td>410.295619</td>\n",
       "      <td>9158.635033</td>\n",
       "      <td>9.122452</td>\n",
       "      <td>6.016878</td>\n",
       "      <td>3.447789</td>\n",
       "      <td>0.910049</td>\n",
       "      <td>1973-01-01</td>\n",
       "      <td>1</td>\n",
       "      <td>1</td>\n",
       "    </tr>\n",
       "    <tr>\n",
       "      <th>1974</th>\n",
       "      <td>426.906110</td>\n",
       "      <td>9763.916538</td>\n",
       "      <td>9.186449</td>\n",
       "      <td>6.056564</td>\n",
       "      <td>6.399645</td>\n",
       "      <td>3.968618</td>\n",
       "      <td>1974-01-01</td>\n",
       "      <td>1</td>\n",
       "      <td>1</td>\n",
       "    </tr>\n",
       "    <tr>\n",
       "      <th>1975</th>\n",
       "      <td>435.773811</td>\n",
       "      <td>9930.384340</td>\n",
       "      <td>9.203354</td>\n",
       "      <td>6.077123</td>\n",
       "      <td>1.690558</td>\n",
       "      <td>2.055922</td>\n",
       "      <td>1975-01-01</td>\n",
       "      <td>1</td>\n",
       "      <td>1</td>\n",
       "    </tr>\n",
       "    <tr>\n",
       "      <th>1976</th>\n",
       "      <td>444.372471</td>\n",
       "      <td>9828.826562</td>\n",
       "      <td>9.193075</td>\n",
       "      <td>6.096663</td>\n",
       "      <td>-1.027963</td>\n",
       "      <td>1.953978</td>\n",
       "      <td>1976-01-01</td>\n",
       "      <td>1</td>\n",
       "      <td>1</td>\n",
       "    </tr>\n",
       "    <tr>\n",
       "      <th>1977</th>\n",
       "      <td>472.861818</td>\n",
       "      <td>9621.308071</td>\n",
       "      <td>9.171736</td>\n",
       "      <td>6.158803</td>\n",
       "      <td>-2.133932</td>\n",
       "      <td>6.214010</td>\n",
       "      <td>1977-01-01</td>\n",
       "      <td>1</td>\n",
       "      <td>1</td>\n",
       "    </tr>\n",
       "    <tr>\n",
       "      <th>1978</th>\n",
       "      <td>466.629163</td>\n",
       "      <td>9134.067535</td>\n",
       "      <td>9.119766</td>\n",
       "      <td>6.145535</td>\n",
       "      <td>-5.196912</td>\n",
       "      <td>-1.326835</td>\n",
       "      <td>1978-01-01</td>\n",
       "      <td>1</td>\n",
       "      <td>1</td>\n",
       "    </tr>\n",
       "    <tr>\n",
       "      <th>1979</th>\n",
       "      <td>476.986445</td>\n",
       "      <td>9273.244882</td>\n",
       "      <td>9.134889</td>\n",
       "      <td>6.167488</td>\n",
       "      <td>1.512225</td>\n",
       "      <td>2.195321</td>\n",
       "      <td>1979-01-01</td>\n",
       "      <td>1</td>\n",
       "      <td>1</td>\n",
       "    </tr>\n",
       "    <tr>\n",
       "      <th>1980</th>\n",
       "      <td>499.016545</td>\n",
       "      <td>9581.071923</td>\n",
       "      <td>9.167545</td>\n",
       "      <td>6.212639</td>\n",
       "      <td>3.265612</td>\n",
       "      <td>4.515118</td>\n",
       "      <td>1980-01-01</td>\n",
       "      <td>1</td>\n",
       "      <td>1</td>\n",
       "    </tr>\n",
       "    <tr>\n",
       "      <th>1981</th>\n",
       "      <td>525.252025</td>\n",
       "      <td>9864.912250</td>\n",
       "      <td>9.196740</td>\n",
       "      <td>6.263878</td>\n",
       "      <td>2.919477</td>\n",
       "      <td>5.123894</td>\n",
       "      <td>1981-01-01</td>\n",
       "      <td>1</td>\n",
       "      <td>1</td>\n",
       "    </tr>\n",
       "    <tr>\n",
       "      <th>1982</th>\n",
       "      <td>549.297685</td>\n",
       "      <td>9606.151437</td>\n",
       "      <td>9.170159</td>\n",
       "      <td>6.308641</td>\n",
       "      <td>-2.658058</td>\n",
       "      <td>4.476233</td>\n",
       "      <td>1982-01-01</td>\n",
       "      <td>1</td>\n",
       "      <td>1</td>\n",
       "    </tr>\n",
       "    <tr>\n",
       "      <th>1983</th>\n",
       "      <td>513.679730</td>\n",
       "      <td>8399.468293</td>\n",
       "      <td>9.035924</td>\n",
       "      <td>6.241600</td>\n",
       "      <td>-13.423526</td>\n",
       "      <td>-6.704055</td>\n",
       "      <td>1983-01-01</td>\n",
       "      <td>1</td>\n",
       "      <td>1</td>\n",
       "    </tr>\n",
       "    <tr>\n",
       "      <th>1984</th>\n",
       "      <td>549.061203</td>\n",
       "      <td>8495.541192</td>\n",
       "      <td>9.047297</td>\n",
       "      <td>6.308210</td>\n",
       "      <td>1.137305</td>\n",
       "      <td>6.660994</td>\n",
       "      <td>1984-01-01</td>\n",
       "      <td>1</td>\n",
       "      <td>1</td>\n",
       "    </tr>\n",
       "    <tr>\n",
       "      <th>1985</th>\n",
       "      <td>541.510669</td>\n",
       "      <td>8468.238346</td>\n",
       "      <td>9.044078</td>\n",
       "      <td>6.294363</td>\n",
       "      <td>-0.321896</td>\n",
       "      <td>-1.384715</td>\n",
       "      <td>1985-01-01</td>\n",
       "      <td>1</td>\n",
       "      <td>1</td>\n",
       "    </tr>\n",
       "    <tr>\n",
       "      <th>1986</th>\n",
       "      <td>563.625975</td>\n",
       "      <td>9054.683447</td>\n",
       "      <td>9.111037</td>\n",
       "      <td>6.334391</td>\n",
       "      <td>6.695963</td>\n",
       "      <td>4.002810</td>\n",
       "      <td>1986-01-01</td>\n",
       "      <td>1</td>\n",
       "      <td>1</td>\n",
       "    </tr>\n",
       "    <tr>\n",
       "      <th>1987</th>\n",
       "      <td>587.769745</td>\n",
       "      <td>9712.858757</td>\n",
       "      <td>9.181206</td>\n",
       "      <td>6.376335</td>\n",
       "      <td>7.016852</td>\n",
       "      <td>4.194442</td>\n",
       "      <td>1987-01-01</td>\n",
       "      <td>1</td>\n",
       "      <td>1</td>\n",
       "    </tr>\n",
       "    <tr>\n",
       "      <th>1988</th>\n",
       "      <td>550.421426</td>\n",
       "      <td>8599.306113</td>\n",
       "      <td>9.059437</td>\n",
       "      <td>6.310684</td>\n",
       "      <td>-12.176914</td>\n",
       "      <td>-6.565107</td>\n",
       "      <td>1988-01-01</td>\n",
       "      <td>1</td>\n",
       "      <td>1</td>\n",
       "    </tr>\n",
       "    <tr>\n",
       "      <th>1989</th>\n",
       "      <td>547.161942</td>\n",
       "      <td>7372.997919</td>\n",
       "      <td>8.905580</td>\n",
       "      <td>6.304745</td>\n",
       "      <td>-15.385712</td>\n",
       "      <td>-0.593940</td>\n",
       "      <td>1989-01-01</td>\n",
       "      <td>1</td>\n",
       "      <td>1</td>\n",
       "    </tr>\n",
       "    <tr>\n",
       "      <th>1990</th>\n",
       "      <td>539.370691</td>\n",
       "      <td>6852.020519</td>\n",
       "      <td>8.832299</td>\n",
       "      <td>6.290403</td>\n",
       "      <td>-7.328082</td>\n",
       "      <td>-1.434174</td>\n",
       "      <td>1990-01-01</td>\n",
       "      <td>1</td>\n",
       "      <td>1</td>\n",
       "    </tr>\n",
       "    <tr>\n",
       "      <th>1991</th>\n",
       "      <td>571.270273</td>\n",
       "      <td>6857.103080</td>\n",
       "      <td>8.833040</td>\n",
       "      <td>6.347862</td>\n",
       "      <td>0.074149</td>\n",
       "      <td>5.745936</td>\n",
       "      <td>1991-01-01</td>\n",
       "      <td>1</td>\n",
       "      <td>1</td>\n",
       "    </tr>\n",
       "    <tr>\n",
       "      <th>1992</th>\n",
       "      <td>469.513757</td>\n",
       "      <td>6682.663370</td>\n",
       "      <td>8.807272</td>\n",
       "      <td>6.151698</td>\n",
       "      <td>-2.576844</td>\n",
       "      <td>-19.616483</td>\n",
       "      <td>1992-01-01</td>\n",
       "      <td>1</td>\n",
       "      <td>1</td>\n",
       "    </tr>\n",
       "    <tr>\n",
       "      <th>1993</th>\n",
       "      <td>515.057446</td>\n",
       "      <td>6893.502315</td>\n",
       "      <td>8.838335</td>\n",
       "      <td>6.244278</td>\n",
       "      <td>3.106266</td>\n",
       "      <td>9.258084</td>\n",
       "      <td>1993-01-01</td>\n",
       "      <td>1</td>\n",
       "      <td>1</td>\n",
       "    </tr>\n",
       "    <tr>\n",
       "      <th>1994</th>\n",
       "      <td>525.366487</td>\n",
       "      <td>7590.461646</td>\n",
       "      <td>8.934648</td>\n",
       "      <td>6.264096</td>\n",
       "      <td>9.631314</td>\n",
       "      <td>1.981765</td>\n",
       "      <td>1994-01-01</td>\n",
       "      <td>1</td>\n",
       "      <td>1</td>\n",
       "    </tr>\n",
       "    <tr>\n",
       "      <th>1995</th>\n",
       "      <td>537.198677</td>\n",
       "      <td>7997.691526</td>\n",
       "      <td>8.986908</td>\n",
       "      <td>6.286368</td>\n",
       "      <td>5.226053</td>\n",
       "      <td>2.227191</td>\n",
       "      <td>1995-01-01</td>\n",
       "      <td>1</td>\n",
       "      <td>1</td>\n",
       "    </tr>\n",
       "    <tr>\n",
       "      <th>1996</th>\n",
       "      <td>577.702027</td>\n",
       "      <td>8070.283319</td>\n",
       "      <td>8.995944</td>\n",
       "      <td>6.359058</td>\n",
       "      <td>0.903565</td>\n",
       "      <td>7.269021</td>\n",
       "      <td>1996-01-01</td>\n",
       "      <td>1</td>\n",
       "      <td>0</td>\n",
       "    </tr>\n",
       "    <tr>\n",
       "      <th>1997</th>\n",
       "      <td>593.880180</td>\n",
       "      <td>8437.797871</td>\n",
       "      <td>9.040477</td>\n",
       "      <td>6.386678</td>\n",
       "      <td>4.453277</td>\n",
       "      <td>2.761937</td>\n",
       "      <td>1997-01-01</td>\n",
       "      <td>0</td>\n",
       "      <td>0</td>\n",
       "    </tr>\n",
       "    <tr>\n",
       "      <th>1998</th>\n",
       "      <td>626.766533</td>\n",
       "      <td>8257.345024</td>\n",
       "      <td>9.018858</td>\n",
       "      <td>6.440574</td>\n",
       "      <td>-2.161825</td>\n",
       "      <td>5.389653</td>\n",
       "      <td>1998-01-01</td>\n",
       "      <td>0</td>\n",
       "      <td>0</td>\n",
       "    </tr>\n",
       "    <tr>\n",
       "      <th>1999</th>\n",
       "      <td>637.888448</td>\n",
       "      <td>8242.230310</td>\n",
       "      <td>9.017026</td>\n",
       "      <td>6.458163</td>\n",
       "      <td>-0.183213</td>\n",
       "      <td>1.758931</td>\n",
       "      <td>1999-01-01</td>\n",
       "      <td>0</td>\n",
       "      <td>0</td>\n",
       "    </tr>\n",
       "    <tr>\n",
       "      <th>2000</th>\n",
       "      <td>661.315738</td>\n",
       "      <td>8336.585137</td>\n",
       "      <td>9.028409</td>\n",
       "      <td>6.494231</td>\n",
       "      <td>1.138270</td>\n",
       "      <td>3.606797</td>\n",
       "      <td>2000-01-01</td>\n",
       "      <td>0</td>\n",
       "      <td>0</td>\n",
       "    </tr>\n",
       "  </tbody>\n",
       "</table>\n",
       "</div>"
      ],
      "text/plain": [
       "              CE          PBI      LPBI       LCE      DLPBI       DLCE  \\\n",
       "year                                                                      \n",
       "1971  388.514407  8784.738435  9.080771  5.962330        NaN        NaN   \n",
       "1972  406.578668  8848.246104  9.087975  6.007777   0.720331   4.544718   \n",
       "1973  410.295619  9158.635033  9.122452  6.016878   3.447789   0.910049   \n",
       "1974  426.906110  9763.916538  9.186449  6.056564   6.399645   3.968618   \n",
       "1975  435.773811  9930.384340  9.203354  6.077123   1.690558   2.055922   \n",
       "1976  444.372471  9828.826562  9.193075  6.096663  -1.027963   1.953978   \n",
       "1977  472.861818  9621.308071  9.171736  6.158803  -2.133932   6.214010   \n",
       "1978  466.629163  9134.067535  9.119766  6.145535  -5.196912  -1.326835   \n",
       "1979  476.986445  9273.244882  9.134889  6.167488   1.512225   2.195321   \n",
       "1980  499.016545  9581.071923  9.167545  6.212639   3.265612   4.515118   \n",
       "1981  525.252025  9864.912250  9.196740  6.263878   2.919477   5.123894   \n",
       "1982  549.297685  9606.151437  9.170159  6.308641  -2.658058   4.476233   \n",
       "1983  513.679730  8399.468293  9.035924  6.241600 -13.423526  -6.704055   \n",
       "1984  549.061203  8495.541192  9.047297  6.308210   1.137305   6.660994   \n",
       "1985  541.510669  8468.238346  9.044078  6.294363  -0.321896  -1.384715   \n",
       "1986  563.625975  9054.683447  9.111037  6.334391   6.695963   4.002810   \n",
       "1987  587.769745  9712.858757  9.181206  6.376335   7.016852   4.194442   \n",
       "1988  550.421426  8599.306113  9.059437  6.310684 -12.176914  -6.565107   \n",
       "1989  547.161942  7372.997919  8.905580  6.304745 -15.385712  -0.593940   \n",
       "1990  539.370691  6852.020519  8.832299  6.290403  -7.328082  -1.434174   \n",
       "1991  571.270273  6857.103080  8.833040  6.347862   0.074149   5.745936   \n",
       "1992  469.513757  6682.663370  8.807272  6.151698  -2.576844 -19.616483   \n",
       "1993  515.057446  6893.502315  8.838335  6.244278   3.106266   9.258084   \n",
       "1994  525.366487  7590.461646  8.934648  6.264096   9.631314   1.981765   \n",
       "1995  537.198677  7997.691526  8.986908  6.286368   5.226053   2.227191   \n",
       "1996  577.702027  8070.283319  8.995944  6.359058   0.903565   7.269021   \n",
       "1997  593.880180  8437.797871  9.040477  6.386678   4.453277   2.761937   \n",
       "1998  626.766533  8257.345024  9.018858  6.440574  -2.161825   5.389653   \n",
       "1999  637.888448  8242.230310  9.017026  6.458163  -0.183213   1.758931   \n",
       "2000  661.315738  8336.585137  9.028409  6.494231   1.138270   3.606797   \n",
       "\n",
       "          fecha  dummy_LPBI  dummy_LCE  \n",
       "year                                    \n",
       "1971 1971-01-01           1          1  \n",
       "1972 1972-01-01           1          1  \n",
       "1973 1973-01-01           1          1  \n",
       "1974 1974-01-01           1          1  \n",
       "1975 1975-01-01           1          1  \n",
       "1976 1976-01-01           1          1  \n",
       "1977 1977-01-01           1          1  \n",
       "1978 1978-01-01           1          1  \n",
       "1979 1979-01-01           1          1  \n",
       "1980 1980-01-01           1          1  \n",
       "1981 1981-01-01           1          1  \n",
       "1982 1982-01-01           1          1  \n",
       "1983 1983-01-01           1          1  \n",
       "1984 1984-01-01           1          1  \n",
       "1985 1985-01-01           1          1  \n",
       "1986 1986-01-01           1          1  \n",
       "1987 1987-01-01           1          1  \n",
       "1988 1988-01-01           1          1  \n",
       "1989 1989-01-01           1          1  \n",
       "1990 1990-01-01           1          1  \n",
       "1991 1991-01-01           1          1  \n",
       "1992 1992-01-01           1          1  \n",
       "1993 1993-01-01           1          1  \n",
       "1994 1994-01-01           1          1  \n",
       "1995 1995-01-01           1          1  \n",
       "1996 1996-01-01           1          0  \n",
       "1997 1997-01-01           0          0  \n",
       "1998 1998-01-01           0          0  \n",
       "1999 1999-01-01           0          0  \n",
       "2000 2000-01-01           0          0  "
      ]
     },
     "execution_count": 45,
     "metadata": {},
     "output_type": "execute_result"
    }
   ],
   "source": [
    "# Create dummy variables to identify structural breaks\n",
    "\n",
    "data['fecha'] = pd.date_range(start='1971-01-01', end='2014-01-01', freq='AS')\n",
    "data['dummy_LPBI'] = np.where(data['fecha'].dt.year >= 1997, 0, 1)\n",
    "data['dummy_LCE'] = np.where(data['fecha'].dt.year >= 1996, 0, 1)\n",
    "data.head(30)"
   ]
  },
  {
   "cell_type": "code",
   "execution_count": 27,
   "id": "f3804d1f-6a89-47e5-b352-39d586521146",
   "metadata": {},
   "outputs": [],
   "source": [
    "# Import libraries\n",
    "\n",
    "from statsmodels.tsa.vector_ar.var_model import VAR"
   ]
  },
  {
   "cell_type": "code",
   "execution_count": 28,
   "id": "60ecc00e-2cf9-40c5-9801-7bedcf6df039",
   "metadata": {},
   "outputs": [],
   "source": [
    "data1 = data.iloc[:, [2,3]]"
   ]
  },
  {
   "cell_type": "code",
   "execution_count": 46,
   "id": "99d27459-f86d-43e7-9cdc-ff3adcbe167c",
   "metadata": {},
   "outputs": [
    {
     "name": "stdout",
     "output_type": "stream",
     "text": [
      "Lag Order = 1\n",
      "AIC :  -27.668168238678618\n",
      "BIC :  -27.422419385326027\n",
      "FPE :  9.639720240944462e-13\n",
      "HQIC:  -27.577543656488704 \n",
      "\n",
      "Lag Order = 2\n",
      "AIC :  -27.922031805644647\n",
      "BIC :  -27.508300944148605\n",
      "FPE :  7.492056344826517e-13\n",
      "HQIC:  -27.77038308159449 \n",
      "\n",
      "Lag Order = 3\n",
      "AIC :  -27.783459448694792\n",
      "BIC :  -27.198337279576247\n",
      "FPE :  8.644306564017248e-13\n",
      "HQIC:  -27.570390215296857 \n",
      "\n",
      "Lag Order = 4\n",
      "AIC :  -27.906094162559903\n",
      "BIC :  -27.14609840820863\n",
      "FPE :  7.71509063479803e-13\n",
      "HQIC:  -27.63130369569299 \n",
      "\n",
      "Lag Order = 5\n",
      "AIC :  -28.03770016604337\n",
      "BIC :  -27.099280775918952\n",
      "FPE :  6.871194102520998e-13\n",
      "HQIC:  -27.701003364249942 \n",
      "\n"
     ]
    }
   ],
   "source": [
    "# Get the order of lags\n",
    "\n",
    "model = VAR(data1)\n",
    "for i in [1,2,3,4,5]:\n",
    "    result = model.fit(i)\n",
    "    print('Lag Order =', i)\n",
    "    print('AIC : ', result.aic)\n",
    "    print('BIC : ', result.bic)\n",
    "    print('FPE : ', result.fpe)\n",
    "    print('HQIC: ', result.hqic, '\\n')"
   ]
  },
  {
   "cell_type": "code",
   "execution_count": 47,
   "id": "1e4c6d94-e780-46f2-b979-fc43bcf51d98",
   "metadata": {},
   "outputs": [
    {
     "data": {
      "text/html": [
       "<table class=\"simpletable\">\n",
       "<caption>VAR Order Selection (* highlights the minimums)</caption>\n",
       "<tr>\n",
       "  <td></td>      <th>AIC</th>         <th>BIC</th>         <th>FPE</th>        <th>HQIC</th>    \n",
       "</tr>\n",
       "<tr>\n",
       "  <th>0</th> <td>    -22.09</td>  <td>    -22.00</td>  <td> 2.554e-10</td>  <td>    -22.06</td> \n",
       "</tr>\n",
       "<tr>\n",
       "  <th>1</th> <td>    -27.61</td>  <td>    -27.36</td>  <td> 1.020e-12</td>  <td>    -27.52</td> \n",
       "</tr>\n",
       "<tr>\n",
       "  <th>2</th> <td>    -27.87</td>  <td>    -27.44*</td> <td> 7.926e-13</td>  <td>    -27.71*</td>\n",
       "</tr>\n",
       "<tr>\n",
       "  <th>3</th> <td>    -27.74</td>  <td>    -27.14</td>  <td> 9.075e-13</td>  <td>    -27.52</td> \n",
       "</tr>\n",
       "<tr>\n",
       "  <th>4</th> <td>    -27.85</td>  <td>    -27.08</td>  <td> 8.156e-13</td>  <td>    -27.58</td> \n",
       "</tr>\n",
       "<tr>\n",
       "  <th>5</th> <td>    -28.04*</td> <td>    -27.10</td>  <td> 6.871e-13*</td> <td>    -27.70</td> \n",
       "</tr>\n",
       "</table>"
      ],
      "text/plain": [
       "<class 'statsmodels.iolib.table.SimpleTable'>"
      ]
     },
     "execution_count": 47,
     "metadata": {},
     "output_type": "execute_result"
    }
   ],
   "source": [
    "# Select the order of lags\n",
    "\n",
    "x = model.select_order(maxlags=5)\n",
    "x.summary()"
   ]
  },
  {
   "cell_type": "markdown",
   "id": "e36af1f2-3307-4496-b13a-804be59a72ac",
   "metadata": {},
   "source": [
    "These results refer to the selection of the order of lags for a VAR (Vector Autoregression) model using four information criteria: AIC (Akaike Information Criterion), BIC (Bayesian Information Criterion), FPE (Final Prediction Error) and HQIC (Hannan- Quinn Information Criterion).\n",
    "\n",
    "Several lag orders have been tested, from 0 to 5. The lowest values of the information criteria (AIC, BIC, FPE, HQIC) indicate that that lag order is the best for the VAR model.\n",
    "\n",
    "In this case, the selected lag order is 2, since it has the lowest BIC value of all the lag orders tested. In addition, its AIC, FPE, and HQIC value are very close to the minimum value, so it can also be considered as a good option."
   ]
  },
  {
   "cell_type": "markdown",
   "id": "0667e156-d544-4e4a-973a-a650426cbb6c",
   "metadata": {},
   "source": [
    "### 3.3. Cointegration Test"
   ]
  },
  {
   "cell_type": "markdown",
   "id": "92488102-fc20-48cf-b37e-0b4d78fb52cc",
   "metadata": {},
   "source": [
    "As mentioned above, the Johansen test was applied. Below are the results of the Maximum Likelihood Cointegration tests based on the range of the **&Pi;** matrix, the Trace and Maximum Eigenvalue tests. The results of the Cointegration test between real GDP and energy consumption imply that the null hypothesis of no Cointegration in both tests, that is, H<sub>0</sub> is rejected at 5% significance, since the is statistic calculated for each is greater than the critical value."
   ]
  },
  {
   "cell_type": "code",
   "execution_count": 48,
   "id": "f5d818fe-7f9e-4ab5-ac74-8eff9bd9bf5e",
   "metadata": {},
   "outputs": [],
   "source": [
    "# Import libraries\n",
    "\n",
    "from statsmodels.tsa.vector_ar.vecm import coint_johansen"
   ]
  },
  {
   "cell_type": "code",
   "execution_count": 49,
   "id": "7b84c2bd-03cd-486f-a835-c61484742f62",
   "metadata": {},
   "outputs": [
    {
     "name": "stdout",
     "output_type": "stream",
     "text": [
      "Rank: 0\n",
      "Eigenvalue: 0.3461271127934622\n",
      "trace statistic:  19.63366014549301\n",
      "Critical value at 5%:  12.3212\n",
      "Max Eigenvalue:  17.843376956378705\n",
      "Max Critical value at 5%:  11.2246\n",
      "Rank: 1\n",
      "Eigenvalue: 0.04173008304161474\n",
      "trace statistic:  1.7902831891143038\n",
      "Critical value at 5%:  4.1296\n",
      "Max Eigenvalue:  1.7902831891143038\n",
      "Max Critical value at 5%:  4.1296\n"
     ]
    }
   ],
   "source": [
    "# Method 1: Perform Johansen's cointegration test\n",
    "\n",
    "data1 = data.iloc[:, [2, 3]]\n",
    "array = np.array(data1.values)\n",
    "result_cj = coint_johansen(array, det_order=-1, k_ar_diff=1)\n",
    "print('Rank:', result_cj.ind[0])\n",
    "print('Eigenvalue:', result_cj.eig[0])\n",
    "print('trace statistic: ', result_cj.trace_stat[0])\n",
    "print('Critical value at 5%: ', result_cj.trace_stat_crit_vals[0][1])\n",
    "print('Max Eigenvalue: ', result_cj.max_eig_stat[0])\n",
    "print('Max Critical value at 5%: ', result_cj.max_eig_stat_crit_vals[0][1])\n",
    "#\n",
    "#\n",
    "print('Rank:', result_cj.ind[1])\n",
    "print('Eigenvalue:', result_cj.eig[1])\n",
    "print('trace statistic: ', result_cj.trace_stat[1])\n",
    "print('Critical value at 5%: ', result_cj.trace_stat_crit_vals[1][1])\n",
    "print('Max Eigenvalue: ', result_cj.max_eig_stat[1])\n",
    "print('Max Critical value at 5%: ', result_cj.max_eig_stat_crit_vals[1][1])\n"
   ]
  },
  {
   "cell_type": "markdown",
   "id": "dcf0dbf7-e1ab-46cb-bd87-17840b9fb4e7",
   "metadata": {},
   "source": [
    "Based on the result obtained with the Johansen Cointegration Test, the Error Correction Model is derived. In this part, we include in the Error Correction Model, two dummy intervention variables that collect the effects of structural breaks in the variables found with the test of Zivot-Andrews, to take them into account in the short- and long-term adjustment dynamics. \n",
    "\n",
    "The Granger representation theorem allows us to model short-term and long-term dynamics through an error correction model. However, first the optimal number of lags must be determined, which is obtained through the VAR(p) model. In this case, the optimal number of lags is 2, that is, our VAR model is of order 2, VAR (2). Now, the error correction model (VEC(p-1)) will be a VEC of order 1, that is, VEC(1)."
   ]
  },
  {
   "cell_type": "code",
   "execution_count": 50,
   "id": "0fd87aaf-7eef-464b-8364-b4880c123ed1",
   "metadata": {},
   "outputs": [],
   "source": [
    "# Import libraries\n",
    "\n",
    "from statsmodels.tsa.vector_ar import vecm"
   ]
  },
  {
   "cell_type": "code",
   "execution_count": 51,
   "id": "4bb69a1b-aa02-403e-ba44-3d7786e5088b",
   "metadata": {},
   "outputs": [
    {
     "name": "stdout",
     "output_type": "stream",
     "text": [
      "Johansen cointegration test using trace test statistic with 5% significance level\n",
      "=====================================\n",
      "r_0 r_1 test statistic critical value\n",
      "-------------------------------------\n",
      "  0   2          19.63          12.32\n",
      "  1   2          1.790          4.130\n",
      "-------------------------------------\n"
     ]
    }
   ],
   "source": [
    "# Method 2: Perform Johansen's cointegration test\n",
    "\n",
    "vec_rank=vecm.select_coint_rank(data1, det_order=-1, k_ar_diff=1, method='trace', signif=0.05)\n",
    "print(vec_rank.summary())"
   ]
  },
  {
   "cell_type": "markdown",
   "id": "a9908b38-f6a3-4bf9-9aaa-fb9b915c0f76",
   "metadata": {},
   "source": [
    "The result of the Johansen cointegration test indicates that for r = 0, the value of the trace test statistic is 19.63. The corresponding critical value for a significance level of 5% is 12.32. Since the value of the test statistic is greater than the critical value, one can reject the null hypothesis that there is no cointegration between the variables and conclude that there is at least one cointegration relationship between them."
   ]
  },
  {
   "cell_type": "code",
   "execution_count": 52,
   "id": "fee56cd5-c285-41d5-a976-e7fc974f9875",
   "metadata": {},
   "outputs": [
    {
     "name": "stdout",
     "output_type": "stream",
     "text": [
      "Johansen cointegration test using maximum eigenvalue test statistic with 5% significance level\n",
      "=====================================\n",
      "r_0 r_1 test statistic critical value\n",
      "-------------------------------------\n",
      "  0   1          12.77          11.22\n",
      "  1   2          3.527          4.130\n",
      "-------------------------------------\n"
     ]
    }
   ],
   "source": [
    "# Get maximum eigenvalues\n",
    "\n",
    "vec_rank1=vecm.select_coint_rank(data1, det_order=-1, k_ar_diff=2, method='maxeig', signif=0.05)\n",
    "print(vec_rank1.summary())"
   ]
  },
  {
   "cell_type": "code",
   "execution_count": 53,
   "id": "41a0f91d-430a-4ed3-ad0d-85e46b390f9f",
   "metadata": {},
   "outputs": [],
   "source": [
    "dummies = data.iloc[:, [7, 8]]\n",
    "array = np.array(dummies.values)"
   ]
  },
  {
   "cell_type": "markdown",
   "id": "22021333-6288-4d59-9e2d-0f4aaf73848d",
   "metadata": {},
   "source": [
    "Based on the VEC model, after applying the Johansen Cointegration Test between energy consumption and GDP, the adjustment dynamics in the short and long term can be analyzed."
   ]
  },
  {
   "cell_type": "code",
   "execution_count": 54,
   "id": "c968f47a-9f0e-4057-816a-3210316a82c3",
   "metadata": {},
   "outputs": [],
   "source": [
    "# Import Libraries\n",
    "\n",
    "from statsmodels.tsa.vector_ar.vecm import VECM"
   ]
  },
  {
   "cell_type": "code",
   "execution_count": 55,
   "id": "2332ac48-b460-42a6-a525-f3702dc2414d",
   "metadata": {},
   "outputs": [
    {
     "name": "stdout",
     "output_type": "stream",
     "text": [
      "Det. terms outside the coint. relation & lagged endog. parameters for equation LPBI\n",
      "==============================================================================\n",
      "                 coef    std err          z      P>|z|      [0.025      0.975]\n",
      "------------------------------------------------------------------------------\n",
      "exog1         -0.0428      0.050     -0.852      0.394      -0.141       0.056\n",
      "exog2          0.0088      0.049      0.179      0.858      -0.088       0.106\n",
      "L1.LPBI        0.4775      0.163      2.924      0.003       0.157       0.797\n",
      "L1.LCE        -0.1407      0.170     -0.828      0.408      -0.474       0.192\n",
      "Det. terms outside the coint. relation & lagged endog. parameters for equation LCE\n",
      "==============================================================================\n",
      "                 coef    std err          z      P>|z|      [0.025      0.975]\n",
      "------------------------------------------------------------------------------\n",
      "exog1         -0.0159      0.043     -0.369      0.712      -0.100       0.069\n",
      "exog2         -0.0657      0.042     -1.548      0.122      -0.149       0.017\n",
      "L1.LPBI        0.2175      0.140      1.555      0.120      -0.057       0.492\n",
      "L1.LCE        -0.5215      0.146     -3.582      0.000      -0.807      -0.236\n",
      "                Loading coefficients (alpha) for equation LPBI                \n",
      "==============================================================================\n",
      "                 coef    std err          z      P>|z|      [0.025      0.975]\n",
      "------------------------------------------------------------------------------\n",
      "ec1            0.0275      0.016      1.678      0.093      -0.005       0.060\n",
      "                Loading coefficients (alpha) for equation LCE                 \n",
      "==============================================================================\n",
      "                 coef    std err          z      P>|z|      [0.025      0.975]\n",
      "------------------------------------------------------------------------------\n",
      "ec1            0.0812      0.014      5.791      0.000       0.054       0.109\n",
      "          Cointegration relations for loading-coefficients-column 1           \n",
      "==============================================================================\n",
      "                 coef    std err          z      P>|z|      [0.025      0.975]\n",
      "------------------------------------------------------------------------------\n",
      "beta.1         1.0000          0          0      0.000       1.000       1.000\n",
      "beta.2        -1.2557      0.020    -61.722      0.000      -1.296      -1.216\n",
      "==============================================================================\n"
     ]
    }
   ],
   "source": [
    "# Apply the error correction model (VECM)\n",
    "\n",
    "vecm = VECM(data1, exog=dummies, k_ar_diff=1, coint_rank=1, deterministic='n', dates=data['fecha'], )\n",
    "vecm_fit = vecm.fit()\n",
    "print(vecm_fit.summary())"
   ]
  },
  {
   "cell_type": "markdown",
   "id": "48c5aabe-750f-47d9-8918-0177acafdc4d",
   "metadata": {},
   "source": [
    "The results show that in the short term, the L1.LPBI coefficient is positive and significant at the 1% level, which indicates that in the short term, a variation in the GDP growth rate (LPBI) will translate into a increase in its own growth rate in the same period. On the other hand, the L1.LCE coefficient is negative but not statistically significant, which suggests that the growth rate of electricity consumption (LCE) does not significantly affect the GDP growth rate in the short term.\n",
    "\n",
    "In this order of ideas, the energy conservation hypothesis is fulfilled for the Peruvian economy in the short term. Regarding the long-term relationships, the results of the cointegration relationships can be analyzed in the last table. Where we can see that the beta.2 coefficient is negative and significant at the 1% level, which indicates that in the long term there is a direct relationship between the growth rate of Peru's GDP and the growth rate of energy consumption in Peru . In other words, in the long term, an increase in energy consumption of 1% generates an increase in GDP of 1,256%, therefore, in the long term, energy consumption does affect GDP.\n",
    "\n",
    "Finally, the adjustment coefficient (speed of adjustment) to long-term imbalances of the model (∆LPIB) is 2.75%, while which for the model (∆LCE) is 8.12%. This implies a faster adjustment in the energy consumption error correction model."
   ]
  },
  {
   "cell_type": "code",
   "execution_count": 56,
   "id": "4ba805ca-de2e-4d6d-a385-71ee657a121d",
   "metadata": {},
   "outputs": [
    {
     "data": {
      "image/png": "[encoded data removed]",
      "text/plain": [
       "<Figure size 720x720 with 2 Axes>"
      ]
     },
     "metadata": {},
     "output_type": "display_data"
    }
   ],
   "source": [
    "# Make forecasts\n",
    "\n",
    "vecm1 = VECM(data1, k_ar_diff=2, coint_rank=1, deterministic='n', dates=data['fecha'])\n",
    "vecm_fit1 = vecm1.fit()\n",
    "vecm_fit1.plot_forecast(5)"
   ]
  },
  {
   "cell_type": "markdown",
   "id": "a335e2a9-2de7-4eb9-9bd3-298ba2c3a504",
   "metadata": {},
   "source": [
    "## 4. Conclusiones"
   ]
  },
  {
   "cell_type": "markdown",
   "id": "4b7918fb-ee61-41ef-abcd-6a193402a66e",
   "metadata": {},
   "source": [
    "In this article, the short- and long-term relationship between energy consumption and real GDP for the Colombian economy during the period 1970-2009 was analyzed, using annual time series. First, the long-term elasticity of energy consumption to real GDP was estimated and then, under the VEC modeling, the short- and long-term dynamics were recognized.\n",
    "\n",
    "The empirical results for the Peruvian case suggest the existence of a long-term bidirectional causal relationship between energy consumption and GDP. In other words, the fact that there is cointegration between the variables confirms the relationship between them, that is, it suggests that in the long term there is a feedback between energy consumption and GDP.\n",
    "\n",
    "In summary, the results indicate that in the short term there is no relationship between energy consumption and GDP, but there is in the long term, so our results can be placed under the long-term energy conservation hypothesis. term and a long-term feedback effect."
   ]
  },
  {
   "cell_type": "markdown",
   "id": "536956bd-4784-4419-8973-18a544f5166b",
   "metadata": {},
   "source": [
    "## References\n",
    "- Abosedra, A., et al. (1991). New evidence on the causal relationship between U.S. Energy consumption y Gross National product. Journal of Energy and Development.\n",
    "- Al-iriani, M. (2006). Energy GDP relationship revisted: an example from GCC countries using panel causality. Energy Policy.\n",
    "- Dickey, D. & Fuller, W. (1979). Distribution of the Estimators for Autoregressive Time Series with a Unit Root. Journal of the American Statistical Association.\n",
    "- Erol, et al. (2001). On the causal relationship between energy and income for industrialized countries. Journal of Energy Development.\n",
    "- Granger, C. & Newbold, P. (1974). Spurious Regressions in Econometrics. Journal of Econometrics, vol. 2: 111-120, 1974.\n",
    "- Hwang, D. & Gum, B. (1992). The causal relationship between energy and GNP: the case of Taiwan. Journal of Energy and Development.\n",
    "- Johansen, S. (1988). Statistical analysis of cointegration vectors. Journal of Economic Dynamics and Control, vol. 12.\n",
    "- Ozturk et at. (2010). The causal relationship between energy consumption and GDP in Albania, Bulgaria, Hungary and Romania: Evidence from ARDL bound testing approach. Applied Energy, Elsevier, vol. 87.\n",
    "- Sims, C. (1980). Macroeconomics and Reality. Econométrica, vol. 48(1): 1-48.\n",
    "- Soytas et al. (2001). Energy Consumption and GDP Relations in Turkey: A Cointegration and Vector Error Correction Analysis. Economics and Business in Transition: Facilitating Competitiveness and Change in the Global Environment Proceedings. Global Business and Technology Association. \n",
    "- Yu et al. (1984). The relationship between energy and GNP: further results. Energy Economics, vol. 6: 186-190, 1984.\n"
   ]
  }
 ],
 "metadata": {
  "kernelspec": {
   "display_name": "Python 3 (ipykernel)",
   "language": "python",
   "name": "python3"
  },
  "language_info": {
   "codemirror_mode": {
    "name": "ipython",
    "version": 3
   },
   "file_extension": ".py",
   "mimetype": "text/x-python",
   "name": "python",
   "nbconvert_exporter": "python",
   "pygments_lexer": "ipython3",
   "version": "3.9.12"
  }
 },
 "nbformat": 4,
 "nbformat_minor": 5
}
